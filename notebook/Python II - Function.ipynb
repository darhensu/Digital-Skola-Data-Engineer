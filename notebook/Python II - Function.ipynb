{
 "cells": [
  {
   "cell_type": "markdown",
   "id": "5badc694-810e-4260-ab2a-8cf7b7172a19",
   "metadata": {},
   "source": [
    "# Python II Homework"
   ]
  },
  {
   "cell_type": "markdown",
   "id": "e09122e2-f157-4e62-8993-a5a28246c612",
   "metadata": {},
   "source": [
    "## Mochammad Aditya Putra Suhendar - Group 4 (Garap Rendang)"
   ]
  },
  {
   "cell_type": "markdown",
   "id": "00f54ea5-0131-4e32-befc-715e89bf58d4",
   "metadata": {},
   "source": [
    "### Menganalisis Data Penjualan"
   ]
  },
  {
   "cell_type": "markdown",
   "id": "4a3020c0-b7b3-4bf9-adae-5eb535341a03",
   "metadata": {},
   "source": [
    "Anda memiliki daftar dictionary yang mewakili data penjualan. Setiap dictionary berisi 'item',\n",
    "'quantity', dan 'price'. Tulislah sebuah fungsi yang menghitung jumlah total penjualan\n",
    "(quantity * price) untuk setiap item dan mengembalikan daftar dictionary baru dengan 'item'\n",
    "dan 'total_sales'.\n"
   ]
  },
  {
   "cell_type": "code",
   "execution_count": 3,
   "id": "408f07f0-1681-47ef-bdf1-c50339a853d0",
   "metadata": {},
   "outputs": [],
   "source": [
    "# Soal\n",
    "\n",
    "#sales_data = [\n",
    "#{'item': 'apple', 'quantity': 10, 'price': 0.5},\n",
    "#{'item': 'banana', 'quantity': 5, 'price': 0.75},\n",
    "#{'item': 'orange', 'quantity': 8, 'price': 0.6}\n",
    "#]\n",
    "#def calculate_total_sales(data):\n",
    "## Your code here\n",
    "#pass\n",
    "#print(calculate_total_sales(sales_data))\n",
    "#Expected Output:\n",
    "#[\n",
    "#{'item': 'apple', 'total_sales': 5.0},\n",
    "#{'item': 'banana', 'total_sales': 3.75},\n",
    "#{'item': 'orange', 'total_sales': 4.8}\n",
    "#]"
   ]
  },
  {
   "cell_type": "code",
   "execution_count": 11,
   "id": "71c38545-b911-4e67-bb29-4594afedd925",
   "metadata": {},
   "outputs": [
    {
     "name": "stdout",
     "output_type": "stream",
     "text": [
      "[{'item': 'apple', 'total_sales': 5.0}, {'item': 'banana', 'total_sales': 3.75}, {'item': 'orange', 'total_sales': 4.8}]\n"
     ]
    }
   ],
   "source": [
    "# Jawaban\n",
    "\n",
    "# Data Penjualan\n",
    "sales_data = [\n",
    "    {'item': 'apple', 'quantity': 10, 'price': 0.5},\n",
    "    {'item': 'banana', 'quantity': 5, 'price': 0.75},\n",
    "    {'item': 'orange', 'quantity': 8, 'price': 0.6}\n",
    "]\n",
    "\n",
    "# Fungsi untuk menghitung total penjualan\n",
    "def calculate_total_sales(data):\n",
    "    result = []\n",
    "    for entry in data:\n",
    "        total_sales = entry['quantity']*entry['price']\n",
    "        result.append({'item': entry['item'], 'total_sales': total_sales})\n",
    "    return result\n",
    "\n",
    "print(calculate_total_sales(sales_data))"
   ]
  },
  {
   "cell_type": "code",
   "execution_count": null,
   "id": "4eb8a190-d60e-4ac9-8b31-9da058535aea",
   "metadata": {},
   "outputs": [],
   "source": []
  }
 ],
 "metadata": {
  "kernelspec": {
   "display_name": "Python 3 (ipykernel)",
   "language": "python",
   "name": "python3"
  },
  "language_info": {
   "codemirror_mode": {
    "name": "ipython",
    "version": 3
   },
   "file_extension": ".py",
   "mimetype": "text/x-python",
   "name": "python",
   "nbconvert_exporter": "python",
   "pygments_lexer": "ipython3",
   "version": "3.12.6"
  }
 },
 "nbformat": 4,
 "nbformat_minor": 5
}
